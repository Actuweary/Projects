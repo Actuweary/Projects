{
 "cells": [
  {
   "cell_type": "markdown",
   "id": "d1c5cd43",
   "metadata": {},
   "source": [
    "## Michael Ersevim - DSC680 - Project 1 Spam detector and remover for any email account"
   ]
  },
  {
   "cell_type": "markdown",
   "id": "dc88e7f4",
   "metadata": {},
   "source": [
    "Starting to attach to email accounts with imapClient"
   ]
  },
  {
   "cell_type": "markdown",
   "id": "523873ea",
   "metadata": {},
   "source": [
    "This block builds the list of Real emails"
   ]
  },
  {
   "cell_type": "code",
   "execution_count": null,
   "id": "4a340c51",
   "metadata": {},
   "outputs": [],
   "source": [
    "from imap_tools import MailBox, AND\n",
    "\n",
    "user = input(\"email address? \")\n",
    "password = input(\"password? \")\n",
    "\n",
    "email_list = []\n",
    "\n",
    "# Get subject and text of all emails from cleaned INBOX folder to compile a list of good (ham) emails\n",
    "\n",
    "with MailBox('imap.cox.net').login(user, password) as mailbox:\n",
    "\n",
    "#    for msg in mailbox.fetch(AND('SINCE 05-Apr-2023')): ## Works to limit new emails since date listed\n",
    "#    for msg in mailbox.fetch(AND(charset='utf8','SINCE 05-Apr-2023')):\n",
    "    for msg in mailbox.fetch(charset='utf8'):\n",
    "        print(msg.subject, msg.text)\n",
    "        email_list.append(msg.text) #attempting to append the text to a list for SVM training purposes\n",
    "        "
   ]
  },
  {
   "cell_type": "markdown",
   "id": "e11d7c3b",
   "metadata": {},
   "source": [
    "This block builds the list of Spam emails"
   ]
  },
  {
   "cell_type": "code",
   "execution_count": null,
   "id": "49685587",
   "metadata": {},
   "outputs": [],
   "source": [
    "from imap_tools import MailBox, AND\n",
    "\n",
    "user = input(\"email address? \")\n",
    "password = input(\"password? \")\n",
    "\n",
    "junk_email_list = []\n",
    "\n",
    "# Get subject and text of all emails from cleaned JUNK folder to compile a list of bad (spam) emails\n",
    "\n",
    "with MailBox('imap.cox.net').login(user, password, initial_folder='JUNK') as mailbox:\n",
    "\n",
    "#    for msg in mailbox.fetch(AND('SINCE 05-Apr-2023')): ## Works to limit new emails since date listed\n",
    "#    for msg in mailbox.fetch(AND(charset='utf8','SINCE 05-Apr-2023')):\n",
    "    for msg in mailbox.fetch(charset='utf8'):\n",
    "        print(msg.subject, msg.text)\n",
    "        junk_email_list.append(msg.text) #attempting to append the text to a list for SVM training purposes\n",
    "        "
   ]
  },
  {
   "cell_type": "code",
   "execution_count": null,
   "id": "b8c9cf2a",
   "metadata": {},
   "outputs": [],
   "source": [
    "#Make a folder(s) in the email account named PySpam for segregating Spam emails\n",
    "\n",
    "user = input(\"email address? \")\n",
    "password = input(\"password? \")\n",
    "\n",
    "with MailBox('imap.cox.net').login(user, password) as mailbox:\n",
    "    mailbox.folder.create('INBOX|PySpam') ### Use the first time to create a subfolder for future spam emails\n"
   ]
  },
  {
   "cell_type": "code",
   "execution_count": null,
   "id": "ee51a468",
   "metadata": {},
   "outputs": [],
   "source": []
  },
  {
   "cell_type": "code",
   "execution_count": null,
   "id": "6634f836",
   "metadata": {},
   "outputs": [],
   "source": [
    "#Check to see the created folder(s) are in the email account you are working on\n",
    "\n",
    "user = input(\"email address? \")\n",
    "password = input(\"password? \")\n",
    "\n",
    "with MailBox('imap.cox.net').login(user, password) as mailbox:\n",
    "    for f in mailbox.folder.list('INBOX'): ###Use this loop to check for all subfolders\n",
    "        print(f)  # FolderInfo(name='INBOX|cats', delim='|', flags=('\\\\Unmarked', '\\\\HasChildren'))\n"
   ]
  },
  {
   "cell_type": "code",
   "execution_count": null,
   "id": "88fd28cc",
   "metadata": {},
   "outputs": [],
   "source": [
    "email_list = [email_list]\n",
    "print(email_list)"
   ]
  },
  {
   "cell_type": "code",
   "execution_count": null,
   "id": "e08ca02e",
   "metadata": {},
   "outputs": [],
   "source": [
    "type(email_list)"
   ]
  },
  {
   "cell_type": "code",
   "execution_count": null,
   "id": "df147ad6",
   "metadata": {},
   "outputs": [],
   "source": []
  },
  {
   "cell_type": "markdown",
   "id": "1819ec65",
   "metadata": {},
   "source": [
    "Training an SVM model to discern Spam from Ham"
   ]
  },
  {
   "cell_type": "code",
   "execution_count": null,
   "id": "84e8d13d",
   "metadata": {},
   "outputs": [],
   "source": [
    "import pandas as pd\n",
    "from sklearn.model_selection import train_test_split\n",
    "from sklearn.feature_extraction.text import CountVectorizer\n",
    "from sklearn import svm\n",
    "from sklearn import metrics\n"
   ]
  },
  {
   "cell_type": "code",
   "execution_count": null,
   "id": "b6c09905",
   "metadata": {},
   "outputs": [],
   "source": [
    "# Actual email junk/real for future appending\n",
    "spam = pd.read_csv('myspam.csv', encoding='cp1252')\n",
    "\n",
    "# Sample dataset for proof of concept/testing\n",
    "#spam = pd.read_csv('spam.csv')"
   ]
  },
  {
   "cell_type": "markdown",
   "id": "e02aa903",
   "metadata": {},
   "source": [
    "Note - the training csv ('myspam.csv') file is a very small sample size \n",
    "currently, given I have not been able to properly \n",
    "automate the importing of 'legible, parsible' emails"
   ]
  },
  {
   "cell_type": "code",
   "execution_count": null,
   "id": "4215adca",
   "metadata": {},
   "outputs": [],
   "source": [
    "spam.head()"
   ]
  },
  {
   "cell_type": "code",
   "execution_count": null,
   "id": "5ad05ee8",
   "metadata": {},
   "outputs": [],
   "source": [
    "x = spam['v2']\n",
    "y = spam[\"v1\"]\n",
    "x_train, x_test,y_train, y_test = train_test_split(x,y,test_size = 0.25)"
   ]
  },
  {
   "cell_type": "code",
   "execution_count": null,
   "id": "7fb81cbc",
   "metadata": {},
   "outputs": [],
   "source": [
    "cv = CountVectorizer()\n",
    "features = cv.fit_transform(x_train)"
   ]
  },
  {
   "cell_type": "code",
   "execution_count": null,
   "id": "c8c61eeb",
   "metadata": {},
   "outputs": [],
   "source": [
    "model = svm.SVC()\n",
    "model.fit(features,y_train)"
   ]
  },
  {
   "cell_type": "code",
   "execution_count": null,
   "id": "b37c6b89",
   "metadata": {},
   "outputs": [],
   "source": [
    "features_test = cv.transform(x_test)\n",
    "print(\"Accuracy: {}\".format(model.score(features_test,y_test)))"
   ]
  },
  {
   "cell_type": "code",
   "execution_count": null,
   "id": "cdcc4725",
   "metadata": {},
   "outputs": [],
   "source": []
  },
  {
   "cell_type": "markdown",
   "id": "aaea2eca",
   "metadata": {},
   "source": [
    "Ad Hoc testing below of trained model"
   ]
  },
  {
   "cell_type": "code",
   "execution_count": null,
   "id": "06b892e6",
   "metadata": {},
   "outputs": [],
   "source": [
    "new_x = \"Jean Greene passed away yesterday. She and Joe have been First Church members for several years. \" # ad hoc test of potential email texts..."
   ]
  },
  {
   "cell_type": "code",
   "execution_count": null,
   "id": "7aab13f7",
   "metadata": {},
   "outputs": [],
   "source": [
    "new_x = [new_x]"
   ]
  },
  {
   "cell_type": "code",
   "execution_count": null,
   "id": "4d9ce7bc",
   "metadata": {},
   "outputs": [],
   "source": [
    "new_features_test = cv.transform(new_x)"
   ]
  },
  {
   "cell_type": "code",
   "execution_count": null,
   "id": "72ec57e7",
   "metadata": {},
   "outputs": [],
   "source": [
    "new_pred = model.predict(new_features_test)"
   ]
  },
  {
   "cell_type": "code",
   "execution_count": null,
   "id": "406ddeb6",
   "metadata": {},
   "outputs": [],
   "source": [
    "print(new_pred)"
   ]
  },
  {
   "cell_type": "code",
   "execution_count": null,
   "id": "3b3d6a36",
   "metadata": {},
   "outputs": [],
   "source": []
  },
  {
   "cell_type": "markdown",
   "id": "b6f03276",
   "metadata": {},
   "source": [
    "Loop to check for prediction and move email based on it"
   ]
  },
  {
   "cell_type": "code",
   "execution_count": null,
   "id": "93b903bd",
   "metadata": {},
   "outputs": [],
   "source": []
  },
  {
   "cell_type": "code",
   "execution_count": null,
   "id": "9436c445",
   "metadata": {},
   "outputs": [],
   "source": [
    "user = input(\"email address? \")\n",
    "password = input(\"password? \")\n",
    "\n",
    "# Use SVM to predict on email and move to PySpam folder if determined to be Spam\n",
    "with MailBox('imap.cox.net').login(user, password) as mailbox:\n",
    "    for msg in mailbox.fetch(charset='utf8'):\n",
    "        new_email_test = cv.transform(msg)\n",
    "        new_pred = model.predict(new_email_test)\n",
    "        if new_pred = 'Spam':\n",
    "            mailbox.move(msg, 'INBOX/PySpam')\n",
    "\n",
    "        "
   ]
  },
  {
   "cell_type": "code",
   "execution_count": null,
   "id": "dede1003",
   "metadata": {},
   "outputs": [],
   "source": []
  },
  {
   "cell_type": "markdown",
   "id": "3def5cc0",
   "metadata": {},
   "source": [
    "* Word Cloud Maker - Helpful in seeing the word drivers of choosing Spam or Ham"
   ]
  },
  {
   "cell_type": "code",
   "execution_count": null,
   "id": "eec2f3be",
   "metadata": {},
   "outputs": [],
   "source": [
    "import string\n",
    "import nltk\n",
    "from nltk.corpus import stopwords\n",
    "from wordcloud import WordCloud\n"
   ]
  },
  {
   "cell_type": "code",
   "execution_count": null,
   "id": "3bf46c63",
   "metadata": {},
   "outputs": [],
   "source": [
    "#nltk.download('stopwords') #Only needs this the first time - computer retains the downloaded list"
   ]
  },
  {
   "cell_type": "code",
   "execution_count": null,
   "id": "f923133b",
   "metadata": {},
   "outputs": [],
   "source": [
    "df = pd.read_csv('myspam.csv', encoding='cp1252') # Special encoding prevents errors from certain quote symbols"
   ]
  },
  {
   "cell_type": "code",
   "execution_count": null,
   "id": "6ad92a25",
   "metadata": {},
   "outputs": [],
   "source": [
    "punctuations_list = string.punctuation\n",
    "def remove_punctuations(text):\n",
    "    temp = str.maketrans('', '', punctuations_list)\n",
    "    return text.translate(temp)\n",
    " \n",
    "df['v2']= df['v2'].apply(lambda x: remove_punctuations(x))\n",
    "df.head()"
   ]
  },
  {
   "cell_type": "code",
   "execution_count": null,
   "id": "50337f2b",
   "metadata": {},
   "outputs": [],
   "source": [
    "def remove_stopwords(text):\n",
    "    stop_words = stopwords.words('english')\n",
    "\n",
    "    imp_words = []\n",
    "\n",
    "    # Storing the important words\n",
    "    for word in str(text).split():\n",
    "        word = word.lower()\n",
    "\n",
    "        if word not in stop_words:\n",
    "            imp_words.append(word)\n",
    "\n",
    "    output = \" \".join(imp_words)\n",
    "\n",
    "    return output\n",
    "\n",
    "\n",
    "df['v2'] = df['v2'].apply(lambda text: remove_stopwords(text))\n",
    "df.head()\n"
   ]
  },
  {
   "cell_type": "code",
   "execution_count": null,
   "id": "e873f62f",
   "metadata": {},
   "outputs": [],
   "source": [
    "import numpy as np\n",
    "import pandas as pd\n",
    "import matplotlib.pyplot as plt\n",
    "import seaborn as sns"
   ]
  },
  {
   "cell_type": "code",
   "execution_count": null,
   "id": "678ca335",
   "metadata": {
    "scrolled": true
   },
   "outputs": [],
   "source": [
    "\n",
    "def plot_word_cloud(data, typ):\n",
    "    email_corpus = \" \".join(data['v2'])\n",
    " \n",
    "    plt.figure(figsize=(10, 10))\n",
    "    wc = WordCloud(background_color='white',\n",
    "                   max_words=100,\n",
    "                   width=200,\n",
    "                   height=100,\n",
    "                   collocations=False).generate(email_corpus)\n",
    " \n",
    "    plt.title(f'WordCloud for {typ} emails.', fontsize=15)\n",
    "    plt.axis('off')\n",
    "    plt.imshow(wc)\n",
    "    plt.show()\n",
    "    print()\n",
    " \n",
    " \n",
    "plot_word_cloud(df[df['v1'] == 'ham'], typ='Non - Spam')\n",
    "plot_word_cloud(df[df['v1'] == 'spam'], typ='Spam')"
   ]
  },
  {
   "cell_type": "code",
   "execution_count": null,
   "id": "0b5f01d9",
   "metadata": {},
   "outputs": [],
   "source": [
    "print(df['v2'])"
   ]
  },
  {
   "cell_type": "code",
   "execution_count": null,
   "id": "b9f351b6",
   "metadata": {},
   "outputs": [],
   "source": []
  },
  {
   "cell_type": "code",
   "execution_count": null,
   "id": "2a8d5d9c",
   "metadata": {},
   "outputs": [],
   "source": []
  },
  {
   "cell_type": "code",
   "execution_count": null,
   "id": "90ecbbec",
   "metadata": {},
   "outputs": [],
   "source": []
  },
  {
   "cell_type": "code",
   "execution_count": null,
   "id": "10d7754b",
   "metadata": {},
   "outputs": [],
   "source": []
  },
  {
   "cell_type": "code",
   "execution_count": null,
   "id": "ce548898",
   "metadata": {},
   "outputs": [],
   "source": []
  },
  {
   "cell_type": "code",
   "execution_count": null,
   "id": "a3a9337a",
   "metadata": {},
   "outputs": [],
   "source": []
  }
 ],
 "metadata": {
  "kernelspec": {
   "display_name": "Python 3 (ipykernel)",
   "language": "python",
   "name": "python3"
  },
  "language_info": {
   "codemirror_mode": {
    "name": "ipython",
    "version": 3
   },
   "file_extension": ".py",
   "mimetype": "text/x-python",
   "name": "python",
   "nbconvert_exporter": "python",
   "pygments_lexer": "ipython3",
   "version": "3.9.7"
  }
 },
 "nbformat": 4,
 "nbformat_minor": 5
}
